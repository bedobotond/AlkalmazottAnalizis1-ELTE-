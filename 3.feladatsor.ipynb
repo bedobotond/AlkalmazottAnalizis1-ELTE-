{
 "cells": [
  {
   "cell_type": "markdown",
   "metadata": {},
   "source": [
    "## 3. Feladatsor\n",
    "<img src=\"TAjoy.jpg\" width=\"700\">\n",
    "\n",
    "<br>\n",
    "### Lagrange-féle interpoláció\n",
    "1.feladat. Készítsük el az $l_i(x)$ Lagrange-féle alappolinomokat és magát az $L_n(x)$ interpolációs polinomot, ha<br>\n",
    "\n",
    "(a) $x_1=0,\\ y_1=1,\\ x_2=2,\\ y_2=3$<br>\n",
    "(b) $x_1=-1,\\ y_1=6,\\ x_2=0,\\ y_2=3,\\ x_3=1,\\ y_3=2$<br>\n",
    "(c) $x_1=0,\\ y_1=2,\\ x_2=2,\\ y_2=1,\\ x_3=3,\\ y_3=4,\\ x_4=4,\\ y_4=3$<br><br>\n"
   ]
  },
  {
   "cell_type": "code",
   "execution_count": 2,
   "metadata": {
    "collapsed": false
   },
   "outputs": [
    {
     "data": {
      "image/png": "[encoded data removed]",
      "text/plain": [
       "<IPython.core.display.Image object>"
      ]
     },
     "metadata": {},
     "output_type": "display_data"
    },
    {
     "name": "stdout",
     "output_type": "stream",
     "text": [
      "R =\n",
      "\n",
      "     1    -2     3\n",
      "\n",
      "\n",
      "S =\n",
      "\n",
      "     1\n"
     ]
    }
   ],
   "source": [
    "X = [-1 0 1];\n",
    "Y = [6 3 2];\n",
    "[R,S]=lagrangepoly(X,Y)\n",
    "x = -1 : 0.01 :1;\n",
    "%figure\n",
    "%subplot(2,1,1);\n",
    "plot(x,polyval(lagrangepoly(X,Y),x),X,Y,'or')\n",
    "title('Lagrange-féle interpolácios polinom')\n",
    "%subplot(2,1,2);\n",
    "%plot(x,(-4/3)*x.^3+10*x.^2-(65/3)*x+15)\n",
    "%title('Gyakorlaton kiszámolt eredmény')"
   ]
  },
  {
   "cell_type": "markdown",
   "metadata": {},
   "source": [
    "<br>\n",
    "2.feladat. Interpoláljuk az $x=0,\\ 0.2,\\ 0.5,\\ 0.8,\\ 1$ alappontokban a megadott $f(x)$ függvényeket a $[0,1]$ intervallumban. Becsüljük meg az $|f(x)-L_5(x)|$ hibát az $x=0.4$ pontban, ha <br>\n",
    "(a) $f(x)=\\displaystyle\\frac{1}{(x+1)^2}$<br>\n",
    "(b) $f(x)=e^x$<br>\n",
    "(c) $f(x)=5x^5-\\sin(x)$<br>\n",
    "\n",
    "3.feladat. Legyen adott az $x_1,\\ldots,x_n$ alappontrendszer. Igazoljuk, hogy<br>\n",
    "(a) $\\displaystyle\\sum_{i=1}^n{x_i^kl_i(x)}=x^k,\\ \\ \\ k=0,\\ldots,n-1$<br>\n",
    "(b) $\\displaystyle\\sum_{i=1}^n{x_i^nl_i(x)}=x^n-\\omega_n(x)$<br>\n",
    "\n",
    "4.feladat. Döntsük el, hogy az interpolációs polinom egyenletesen tart-e $f$-hez, ha az $[a,b]$ intervallumban levõ alappontok száma a végtelenhez tart.<br>\n",
    "(a) $f(x)=\\sin(x),\\ x\\in[0,\\pi]$<br>\n",
    "(b) $f(x)=e^x,\\ x\\in[0,1]$<br>\n",
    "(c) $f(x)=x^{n+1},\\ x\\in[-1,1]$<br>\n",
    "\n",
    "5.feladat. Adott $x_1,\\ldots,x_n$ osztópontok esetén az $f(x)=\\sin(x)$ függvényt akarjuk az $I=[0,\\pi/2]$ intervallumon úgy interpolálni, hogy az egyes kis részintervallumokon lineáris interpolációt hajtunk végre. Hány egyenlõ hosszúságú részre kell az $I$ intervallumot felosztani, hogy az egész intervallumon legfeljebb $0.0001$ hibát kövessünk el?<br>\n",
    "\n",
    "### Newton-féle interpoláció\n",
    "\n",
    "<br>\n",
    "6.feladat. Írjuk fel az $x_1,x_2,x_3$ osztópontok esetén az $f[x_1],f[x_2],f[x_3],f[x_1,x_2],f[x_2,x_3],f[x_1,x_2,x_3]$ osztott differenciákat. Mi történik, ha egy osztott differenciában az osztópontok sorrendjét permutáljuk?<br>\n",
    "\n",
    "7.feladat. Írjuk fel az alábbi pontokon áthaladó interpolációs polinom Newton-féle alakját\n",
    "osztott differenciák segítségével:<br>\n",
    "(a) $(-1,1),\\ (0,0),\\ (1,-1),\\ (2,4)$<br>\n",
    "(b) $(-1,1),\\ (1,-1),\\ (2,13),\\ (3,69),\\ (4,221)$<br>\n"
   ]
  },
  {
   "cell_type": "code",
   "execution_count": 2,
   "metadata": {
    "collapsed": false
   },
   "outputs": [
    {
     "name": "stdout",
     "output_type": "stream",
     "text": [
      "N =\n",
      "\n",
      "   -1.5000    5.5000    3.7500    1.0833\n",
      "   15.0000   20.5000    9.1667         0\n",
      "   56.0000   48.0000         0         0\n",
      "  152.0000         0         0         0\n"
     ]
    }
   ],
   "source": [
    "% Newton-féle interpolációhoz tartozo mátrix\n",
    "x=[-1 1 2 3 4];\n",
    "y=[1 -2 13 69 221];\n",
    "p=length(x);\n",
    "n = length(x);\n",
    "for k = 1 : n - 1\n",
    "   N(k, 1) = (y(k+1) - y(k))/(x(k+1) - x(k));\n",
    "end\n",
    "for j = 2 : n - 1\n",
    "   for k = 1 : n - j\n",
    "      N(k, j) = (N(k+1, j - 1) - N(k, j - 1))/(x(k+j) - x(k));\n",
    "   end\n",
    "end\n",
    "N"
   ]
  },
  {
   "cell_type": "markdown",
   "metadata": {},
   "source": [
    "8.feladat. A 7/(b) pontpárjaihoz vegyük hozzá a $(0,-3)$ pontot. Az eddig tanult módszerek közül melyiket válsztanánk az új interpolációs polinom kiszámítására? Válaszunkat indokoljuk!<br>\n",
    "\n",
    "9.feladat.  Legyenek adottak az $(x_1,y_1),\\ldots,(x_k,y_k)$ pontpárok. Az $(x_{k+1},y_{k+1})$ új pont hozzávételével $f[x_1,\\ldots,x_k,x_{k+1}]=0$. Mit mondhatunk ekkor az $N_k(x)$ és $N_{k+1}(x)$ polinomok kapcsolatáról?<br>\n",
    "\n",
    "### Hermite-féle és inverz interpoláció\n",
    "\n",
    "<br>\n",
    "10.feladat. Mi lesz az $f$-et közelítõ Hermite-féle interpolációs polinom, ha<br>\n",
    "\n",
    "(a) $f(1)=0,\\ f(2)=1,\\ f'(2)=3,\\ f''(2)=0,\\ f(3)=1$<br>\n",
    "(b) $f(0)=0,\\ f'(0)=1,\\ f(1)=1,\\ f'(1)=3,\\ f''(1)=6$<br><br>\n"
   ]
  },
  {
   "cell_type": "code",
   "execution_count": 7,
   "metadata": {
    "collapsed": false
   },
   "outputs": [
    {
     "name": "stdout",
     "output_type": "stream",
     "text": [
      "A =\n",
      "\n",
      "     0     0     0     0     1\n",
      "     0     0     0     1     0\n",
      "     1     1     1     1     1\n",
      "     4     3     2     1     0\n",
      "    12     6     2     0     0\n",
      "\n",
      "\n",
      "b =\n",
      "\n",
      "     0\n",
      "     1\n",
      "     1\n",
      "     3\n",
      "     6\n",
      "\n",
      "\n",
      "y =\n",
      "\n",
      "   -1.0000\n",
      "    4.0000\n",
      "   -3.0000\n",
      "    1.0000\n",
      "         0\n"
     ]
    }
   ],
   "source": [
    "A=[0 0 0 0 1; 0 0 0 1 0; 1 1 1 1 1; 4 3 2 1 0; 12 6 2 0 0]\n",
    "b=[0 1 1 3 6]'\n",
    "y=A\\b"
   ]
  },
  {
   "cell_type": "markdown",
   "metadata": {},
   "source": [
    "<br>\n",
    "11.feladat. Legyen $T_n(x)=\\cos(n\\ \\mathrm{arc}\\cos(x))$, ha $x\\in[-1,1]$. Számoljuk ki $T_0$-t és $T_1$-et. \n",
    "$$T_n(x)=2xT_{n-1}(x)-T_{n-2}(x)$$\n",
    "összefüggést bizonyítva mutassuk meg, hogy $T_n$ egy n-edfokú polinom.<br>\n",
    "\n",
    "12.feladat. Döntsük el, hogy az interpolációs polinom egyenletesen tart-e \n",
    "$f(x)=x^{n+1}$-hez, ha a $[-1,1]$ intervallumban levõ Csebisev-polinom gyökhelyeinek megválasztott alappontok száma a végtelenhez tart.<br>\n",
    "\n",
    "<img src=\"csebisev.jpg\" width=\"700\">\n",
    "\n",
    "<br>\n",
    "\n",
    "13.feladat. Adjuk meg az alábbi egyenletek gyökeinek közelítését másodfokú inverz interpolációval a megadott pontokban felvett függvényértékek segítségével.<br>\n",
    "\n",
    "(a)  $\\tan(x)=0.5$, $x\\in[0,\\pi/3]$, a megadott pontok: $0,\\ \\pi/6,\\ \\pi/3$<br>\n",
    "(b)  $x^2=4$, $x\\in[1,3]$, a megadott pontok: $1,\\ 2,\\ 3$<br>"
   ]
  }
 ],
 "metadata": {
  "kernelspec": {
   "display_name": "Matlab",
   "language": "matlab",
   "name": "matlab"
  },
  "language_info": {
   "codemirror_mode": "octave",
   "file_extension": ".m",
   "help_links": [
    {
     "text": "MetaKernel Magics",
     "url": "https://github.com/calysto/metakernel/blob/master/metakernel/magics/README.md"
    }
   ],
   "mimetype": "text/x-octave",
   "name": "matlab",
   "version": "0.11.0"
  }
 },
 "nbformat": 4,
 "nbformat_minor": 0
}
