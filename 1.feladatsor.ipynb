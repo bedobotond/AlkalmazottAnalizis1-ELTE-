{
 "cells": [
  {
   "cell_type": "markdown",
   "metadata": {},
   "source": [
    "# <center>Alkalmazott Analízis I.</center>\n",
    "\n",
    "## <center>Fekete Imre</center>\n",
    "### <center>Alkalmazott Analízis és Számításmatematikai Tanszék</center>\n",
    "<img src=\"cimer.jpg\" width=\"400\">\n",
    "<br>\n",
    "<br>\n",
    "<br>\n",
    "<br>\n",
    "\n",
    "### Általános információk:\n",
    "+ <span class=\"fa fa-building-o\"></span> Déli Tömb 3.702</li>\n",
    "+ Honlap: <a href=\"http://www.cs.elte.hu/~feipaat/\" target=\"_blank\"> http://www.cs.elte.hu/~feipaat/</a>\n",
    "+ Fogadóórák: A és B\n",
    "+ Piazza: Kurzushoz kapcsolódó minden anyag és csoportos levelezés <a href=\"https://piazza.com/elte.hu/spring2017/mm1c1aa4e\"> https://piazza.com/elte.hu/spring2017/mm1c1aa4e </a>\n",
    "\n",
    "### Számonkérés:\n",
    "\n",
    "+ 2 db zárthelyi; mindkettő legalább elégséges\n",
    "+ Beadható feladatokkal lehet bónuszpontokat szerezni\n",
    "<br>\n",
    "\n",
    "### 3 kívánság:\n",
    "<br>\n",
    "\n",
    "<div style=\"width:600 px\">\n",
    "<div style=\"float:left\"><img src=\"netflix.jpg\" width=\"400\" title=\"Figyeljünk az órán és gondolkozzunk együtt!\"/></div> \n",
    "<div style=\"float:left\"><img src=\"circle.gif\" width=\"500\" title=\"Gyakoroljunk!\"/></div>\n",
    "<div style=\"float:left\"><img src=\"door.gif\" width=\"500\" title=\"Mindig legyünk bátrak kérdezni és használjuk ki a fogadóórát!\"/></div>\n",
    "<div style=\"clear:both\"></div>\n",
    "</div>   \n"
   ]
  },
  {
   "cell_type": "markdown",
   "metadata": {},
   "source": [
    "<br>\n",
    "<br>\n",
    "## <center>1. Feladatsor</center>\n",
    "\n",
    "\n",
    "### Kerekítési hiba, numerikus instabilitás\n",
    "1.feladat. Oldjuk meg az eredeti és a hibával terhelt rendszert.\n",
    "<br>\n",
    "\n",
    "(a)\n",
    "<center>\n",
    "$\\left( \\begin{array}{cc}\n",
    "1 & 1 \\\\\n",
    "1 & 1.01\n",
    "\\end{array} \\right)$\n",
    "$\\left( \\begin{array}{c}\n",
    "x_{1}\\\\\n",
    "x_{2}\n",
    "\\end{array} \\right)$=$\\left( \\begin{array}{c}\n",
    "2 \\\\\n",
    "2.01\n",
    "\\end{array} \\right)$\n",
    "</center>\n",
    "\n",
    "(b)\n",
    "<center>\n",
    "$\\left( \\begin{array}{cc}\n",
    "1 & 1 \\\\\n",
    "1 & 1.01\n",
    "\\end{array} \\right)$\n",
    "$\\left( \\begin{array}{c}\n",
    "y_{1}\\\\\n",
    "y_{2}\n",
    "\\end{array} \\right)$=$\\left( \\begin{array}{c}\n",
    "2 \\\\\n",
    "2.02\n",
    "\\end{array} \\right)$\n",
    "</center>\n",
    "<br>\n",
    "<br>"
   ]
  },
  {
   "cell_type": "code",
   "execution_count": 4,
   "metadata": {
    "collapsed": false
   },
   "outputs": [
    {
     "name": "stdout",
     "output_type": "stream",
     "text": [
      "x_1 =\n",
      "\n",
      "    1.0000\n",
      "    1.0000\n"
     ]
    }
   ],
   "source": [
    "A_1=[1 1; 1 1.01]\n",
    "b_1=[2 2.01]';\n",
    "x_1=A_1\\b_1"
   ]
  },
  {
   "cell_type": "code",
   "execution_count": 6,
   "metadata": {
    "collapsed": false
   },
   "outputs": [
    {
     "name": "stdout",
     "output_type": "stream",
     "text": [
      "x_2 =\n",
      "\n",
      "     0\n",
      "     2\n",
      "\n",
      "\n",
      "ans =\n",
      "\n",
      "  402.0075\n"
     ]
    }
   ],
   "source": [
    "b_2=[2 2.02]'; x_2=A_1\\b_2\n",
    "cond(A_1)"
   ]
  },
  {
   "cell_type": "markdown",
   "metadata": {},
   "source": [
    "2.feladat. Tekintsük az alábbi integrált:\n",
    "$$\\displaystyle I_n=\\int_0^1\\frac{x^n}{10+x}dx,$$ ahol $n\\in\\mathbb{N}$.\n",
    "<br>\n",
    "<br>\n",
    "(a) Mutassuk meg, hogy $I_n\\geq 0$, $I_{n+1}\\leq I_n$ és $I_n\\to 0$, ha $n\\to\\infty$.<br>\n",
    "(b) Adjunk rekurziót $I_n$-re. Számoljuk ki a rekurzió elsõ pár tagját. Magyarázzuk meg, miért viselkedik a rekurzió nagy $n$-ekre rosszul és javítsuk az algoritmust."
   ]
  },
  {
   "cell_type": "code",
   "execution_count": 2,
   "metadata": {
    "collapsed": false
   },
   "outputs": [
    {
     "name": "stdout",
     "output_type": "stream",
     "text": [
      "I_1 =\n",
      "\n",
      "   1.0e+03 *\n",
      "\n",
      "   0.000095310179804\n",
      "   0.000046898201957\n",
      "   0.000031017980432\n",
      "   0.000023153529008\n",
      "   0.000018464709916\n",
      "   0.000015352900840\n",
      "   0.000013137658268\n",
      "   0.000011480560175\n",
      "   0.000010194398250\n",
      "   0.000009167128613\n",
      "   0.000008328713865\n",
      "   0.000007621952257\n",
      "   0.000007113810768\n",
      "   0.000005784969245\n",
      "   0.000013578878977\n",
      "  -0.000069122123107\n",
      "   0.000753721231073\n",
      "  -0.007478388781319\n",
      "   0.074839443368743\n",
      "  -0.748341802108480\n",
      "   7.483468021084803\n"
     ]
    }
   ],
   "source": [
    "format long\n",
    "n=20;\n",
    "I_1=zeros(n+1,1);\n",
    "I_1(1)=log(1.1); % I_1(1) a feladatbeli I_0\n",
    "for i=1:n\n",
    "I_1(i+1)=1/i-10*I_1(i);\n",
    "end    \n",
    "I_1"
   ]
  },
  {
   "cell_type": "code",
   "execution_count": 6,
   "metadata": {
    "collapsed": false
   },
   "outputs": [
    {
     "name": "stdout",
     "output_type": "stream",
     "text": [
      "n =\n",
      "\n",
      "    20\n",
      "\n",
      "\n",
      "I_2 =\n",
      "\n",
      "   0.046898201956751\n",
      "   0.031017980432486\n",
      "   0.023153529008473\n",
      "   0.018464709915267\n",
      "   0.015352900847329\n",
      "   0.013137658193377\n",
      "   0.011480560923370\n",
      "   0.010194390766296\n",
      "   0.009167203448155\n",
      "   0.008327965518452\n",
      "   0.007629435724575\n",
      "   0.007038976087585\n",
      "   0.006533316047226\n",
      "   0.006095410956312\n",
      "   0.005712557103543\n",
      "   0.005374428964568\n",
      "   0.005079239766082\n",
      "   0.004763157894737\n",
      "   0.005000000000000\n",
      "                   0\n"
     ]
    }
   ],
   "source": [
    "% Numerikusan stabil algoritmus\n",
    "n=20\n",
    "I_2=zeros(n,1);\n",
    "I_2(n)=0;\n",
    "for i=1:n-1\n",
    "        I_2(n-i)=1/10*(1/(n+1-i)-I_2(n+1-i));\n",
    "end    \n",
    "I_2"
   ]
  },
  {
   "cell_type": "markdown",
   "metadata": {},
   "source": [
    "3.feladat. Tekintsük az alábbi integrált:\n",
    "$$\\displaystyle I_n=\\int_0^1 x^ne^{-x}dx,$$ ahol $n\\in\\mathbb{N}$.\n",
    "<br>\n",
    "<br>\n",
    "(a) Mutassuk meg, hogy $I_n\\geq 0$ és $I_n\\to 0$, ha $n\\to\\infty$.<br>\n",
    "(b) Adjunk rekurziót $I_n$-re. Számoljuk ki $I_{10},\\ I_{20},\\ I_{30}$ értékeit."
   ]
  },
  {
   "cell_type": "code",
   "execution_count": 9,
   "metadata": {
    "collapsed": false
   },
   "outputs": [],
   "source": [
    "format long\n",
    "n=5;\n",
    "I_3=zeros(n+1,1);\n",
    "I_3(1)=1-1/exp(1);\n",
    "for i=2:(n+1)\n",
    "I_3(i)=-(1/exp(1))+(i-1)*I_3(i-1);\n",
    "end\n",
    "I_3;"
   ]
  },
  {
   "cell_type": "code",
   "execution_count": 9,
   "metadata": {
    "collapsed": false
   },
   "outputs": [],
   "source": [
    "% Numerikusan stabil algoritmus\n",
    "n=20;\n",
    "I_4=zeros(n-1,1);\n",
    "I_4(n)=0;\n",
    "for i=1:(n-1)\n",
    "        I_4(n-i)=(1/(n+1-i))*((1/exp(1))+I_4(n+1-i));\n",
    "end    \n",
    "I_4;"
   ]
  },
  {
   "cell_type": "markdown",
   "metadata": {},
   "source": [
    "### Gépi matematika\n",
    "\n",
    "##### Gépi számok halmaza\n",
    "\n",
    "$$M\\equiv M(a,t,k^-,k^+):=\\{\\pm a^k\\sum_{i=1}^t x_ia^{-i} : k^-\\leq k\\leq k^+, 0\\leq x_i\\leq a-1, i=1,\\ldots,t\\}\\subset\\mathbb{R}$$\n",
    "ahol\n",
    "+ $a\\in\\mathbb{N}^+$ a *számrendszer alapja*\n",
    "+ $t\\in\\mathbb{N}$ a *mantissza hossza*\n",
    "+ $k\\in\\mathbb{Z}$ az *exponens* vagy *karakterisztika*\n",
    "+ Megállapodás: $x_1\\neq 0$ (normalizált lebegőpontos szám)\n",
    "<br>\n",
    "\n",
    "Nevezetes gépi értékek:\n",
    "+ $x'$ az $x$ *rákövetkezője*\n",
    "+ $\\epsilon_0$ a 0 rákövetkezője\n",
    "+ $0.5\\cdot_1\\epsilon=0.5\\cdot a^{1-t}$ a *gépi epszilon*\n",
    "+ $M_{\\infty}$ a *legnagyobb gépi szám*\n",
    "<br>\n",
    "\n",
    "##### Valós számok konverziója gép számmá\n",
    "\n",
    "Legyen $x\\in\\mathbb{R}$ olyan, hogy $|x|\\leq M_{\\infty}.$ Definiáljuk az fl$:\\mathbb{R}\\to M$ függvényt az alábbi módon:\n",
    "\\begin{equation}\n",
    "fl(x):= \\begin{cases}\n",
    "0, & \\text{ha $|x|<\\epsilon_0$} \\\\\n",
    "x\\text{-hez legközelebb eső gépi szám }, &\\text{ha $\\epsilon_0\\leq |x|\\leq M_{\\infty}$} \n",
    "\\end{cases}\n",
    "\\end{equation}\n",
    "Ha $|x|>M_{\\infty}$, akkor fl$(x)$\n",
    "+ nem értelmezett vagy\n",
    "+ NaN (Not a Number)\n"
   ]
  },
  {
   "cell_type": "code",
   "execution_count": 14,
   "metadata": {
    "collapsed": false
   },
   "outputs": [
    {
     "name": "stdout",
     "output_type": "stream",
     "text": [
      "ans =\n",
      "\n",
      "     2.220446049250313e-16\n"
     ]
    }
   ],
   "source": [
    "eps"
   ]
  },
  {
   "cell_type": "markdown",
   "metadata": {},
   "source": [
    "<br>\n",
    "<br>\n",
    "4.feladat. Írjuk fel $M(2,2,-2,1)$ összes elemét!  Számítsuk ki $M_{\\infty},\\ \\epsilon_0,\\ \\epsilon_{0}^{'},\\ \\epsilon_{1}$ értékét.<br>\n",
    "\n",
    "5.feladat. Ábrázoljuk az $M(2,2,-2,1)$ paraméterekkel rendelkezõ gépen a következõ számokat:  $$\\frac{1}{2},\\ \\frac{3}{16},\\ \\frac{1}{10},\\ \\frac{6}{10},\\ \\frac{1}{\\pi}.$$<br>\n",
    "\n",
    "6.feladat. Tekintsük az $M(2,4,-3,3)$ paraméterekkel rendelkezõ számítógépet.  Keressünk olyan $x,\\ y,\\ z$ nemnulla számokat $M$-ben, hogy \n",
    "+ $x+y=x$,\n",
    "+ $(x+y)+z\\neq x+(y+z).$ <br>\n",
    "\n",
    "7.feladat. Tekintsük az $a_1+a_2+\\ldots+a_n$ alakú összegek kiszámításásra az alább két algoritmust.\n",
    "<table style=\"width:30%\">\n",
    "  <tr>\n",
    "    <th>Algoritmus 1</th>\n",
    "    <th>Algoritmus 2</th> \n",
    "  </tr>\n",
    "  <tr>\n",
    "    <td>s=0;<br>\n",
    "     for i=1:n<br>\n",
    "     s=s+a(i);<br>\n",
    "     end\n",
    "     </td>\n",
    "     <td>s=0;<br>\n",
    "     for i=n:-1:1<br>\n",
    "     s=s+a(i);<br>\n",
    "     end\n",
    "     </td>\n",
    "  </tr>\n",
    "\n",
    "</table>\n",
    "Számoljuk ki az $S_n=\\displaystyle\\sum_{i=1}^n \\frac{1}{i\\cdot(i+1)}$ értékét mindkét algoritmussal $n=999999$ esetén. Melyik lesz pontosabb?"
   ]
  },
  {
   "cell_type": "code",
   "execution_count": 3,
   "metadata": {
    "collapsed": false
   },
   "outputs": [
    {
     "name": "stdout",
     "output_type": "stream",
     "text": [
      "s =\n",
      "\n",
      "   0.999999000000048\n"
     ]
    }
   ],
   "source": [
    "% Algoritmus 1\n",
    "format long\n",
    "n=999999;\n",
    "s=0; \n",
    "for i=1:n \n",
    "s=s+1/(i*(i+1)); \n",
    "end \n",
    "s"
   ]
  },
  {
   "cell_type": "code",
   "execution_count": 4,
   "metadata": {
    "collapsed": false
   },
   "outputs": [
    {
     "name": "stdout",
     "output_type": "stream",
     "text": [
      "s =\n",
      "\n",
      "   0.999999000000000\n"
     ]
    }
   ],
   "source": [
    "% Algoritmus 2\n",
    "n=999999;\n",
    "s=0; \n",
    "for i=n:-1:1 \n",
    "s=s+1/(i*(i+1)); \n",
    "end\n",
    "s"
   ]
  },
  {
   "cell_type": "markdown",
   "metadata": {},
   "source": [
    "##### Hibakorlátok\n",
    "\n",
    "Legyen $a\\in\\mathbb{R}$ a pontos érték. Gépi közelítése $a'$. Ekkor<br>\n",
    "+ $\\Delta a=|a-a'|$ abszolút hiba\n",
    "+ $\\delta a=\\frac{|a-a'|}{|a|}$ relatív hiba \n",
    "\n",
    "8.feladat. Közelítsük $\\pi$-t a $\\pi'=3.14$ értékkel.  Mekkora a közelítés abszolút és relatív hibakorlátja?<br>\n",
    "\n",
    "9.feladat. Legyen egy henger sugara $r=1\\pm 0.01$ és magassága $h=2\\pm 0.02$. A $\\pi$ értékét $3.14$-nek véve számítsuk ki közelítõleg a térfogatát! Mekkora lesz az eredmény abszolút hibája?<br>\n",
    "\n",
    "10.feladat. Mekkora relatív hibával közelíti az $1-x$ kifejezés az $1/(1+x)$ kifejezést a  $[-0.1,\\ 0.1]$ intervallumon?<br>\n",
    "\n",
    "11.feladat. Számoljuk ki számológéppel az $a=\\sqrt{9876}$, illetve a $b=\\sqrt{9875}$ számok hat tizedesjegyre kerekített $a',\\ b'$ értékét. Az $x=a-b$ különbséget mekkora abszolút és relatív hibával közelíti az<br>\n",
    "(a) $x'=a'-b'$,<br>\n",
    "(b) $x''=1/(a'+b')$. \n",
    "                                                                     "
   ]
  },
  {
   "cell_type": "code",
   "execution_count": null,
   "metadata": {
    "collapsed": true
   },
   "outputs": [],
   "source": []
  }
 ],
 "metadata": {
  "kernelspec": {
   "display_name": "Matlab",
   "language": "matlab",
   "name": "matlab"
  },
  "language_info": {
   "codemirror_mode": "octave",
   "file_extension": ".m",
   "help_links": [
    {
     "text": "MetaKernel Magics",
     "url": "https://github.com/calysto/metakernel/blob/master/metakernel/magics/README.md"
    }
   ],
   "mimetype": "text/x-octave",
   "name": "matlab",
   "version": "0.11.0"
  }
 },
 "nbformat": 4,
 "nbformat_minor": 0
}
