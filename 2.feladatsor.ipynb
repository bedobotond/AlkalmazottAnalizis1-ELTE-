{
 "cells": [
  {
   "cell_type": "markdown",
   "metadata": {},
   "source": [
    "## 2. Feladatsor\n",
    "\n",
    "<img src=\"phd012216s.gif\" width=\"700\">\n",
    "\n",
    "<br>\n",
    "### Normált terek\n",
    "1.feladat. Igazoljuk, ha $\\left\\| \\cdot \\right\\|$ norma az $X$ vektortéren, akkor a $\\rho:X\\times X\\to\\mathbb{R}$ metrikát definiál, ha $\\rho(x,y)=\\left\\| x-y \\right\\|$.<br>\n",
    "\n",
    "2.feladat. Mutassuk meg, hogy az $(X,\\left\\| \\cdot \\right\\|)$ normált tér:<br>\n",
    "\n",
    "(a) $X=\\mathbb{K}^n,\\ \\left\\| x \\right\\|_{1}=\\sum\\limits_{k=1}^{n}{|x_{k}|}$<br>\n",
    "(b) $X=\\mathbb{K}^n,\\ \\left\\| x \\right\\|_{2}=\\left(\\sum\\limits_{k=1}^{n}{|x_{k}|^2}\\right)^{1/2}$<br>\n",
    "(c) $X=\\mathbb{K}^n,\\ \\left\\| x \\right\\|_{\\infty}=\\max\\limits_{1\\leq k \\leq n}{|x_{k}|}$<br>\n",
    "(d) $X=C[a,b],\\ \\left\\| f \\right\\|_{\\infty}=\\max\\limits_{x\\in[a,b]} {|f(x)|}$<br>\n",
    "(e) $X=C[a,b],\\ \\left\\| f \\right\\|_{1}=\\int\\limits_{a}^{b}{|f(x)|dx}$<br>\n",
    "\n"
   ]
  },
  {
   "cell_type": "code",
   "execution_count": 7,
   "metadata": {
    "collapsed": false
   },
   "outputs": [
    {
     "name": "stdout",
     "output_type": "stream",
     "text": [
      "a =\n",
      "\n",
      "    -1     2     3    -4    11     0  -542\n",
      "\n",
      "\n",
      "ans =\n",
      "\n",
      "  542.1393\n",
      "\n",
      "\n",
      "ans =\n",
      "\n",
      "   563\n",
      "\n",
      "\n",
      "ans =\n",
      "\n",
      "  542.1393\n",
      "\n",
      "\n",
      "ans =\n",
      "\n",
      "   542\n"
     ]
    }
   ],
   "source": [
    "% Az egyes vektornormák MATLAB-ban\n",
    "a=[-1 2 3 -4 11 0 -542]\n",
    "norm(a)\n",
    "norm(a,1)\n",
    "norm(a,2)\n",
    "norm(a,inf)"
   ]
  },
  {
   "cell_type": "markdown",
   "metadata": {},
   "source": [
    "<br>\n",
    "3.feladat. Igazoljuk, hogy normált térben minden $x,y\\in X$ esetén $|\\left\\| x \\right\\|-\\left\\| y \\right\\||\\leq \\left\\| x-y \\right\\|$.<br>\n",
    "\n",
    "4.feladat. Mutassuk meg, hogy az alábbi normák ekvivalensek $\\mathbb{R}^n$-ben:<br>\n",
    "(a) $\\left\\| \\cdot \\right\\|_{1}\\cong\\left\\| \\cdot \\right\\|_{\\infty}$<br>\n",
    "(b) $\\left\\| \\cdot \\right\\|_{2}\\cong\\left\\| \\cdot \\right\\|_{\\infty}$<br>\n",
    "(c) $\\left\\| \\cdot \\right\\|_{1}\\cong\\left\\| \\cdot \\right\\|_{2}$<br>\n",
    "(d) $\\left\\| \\cdot \\right\\|_{5}\\cong\\left\\| \\cdot \\right\\|_{\\infty}$<br>\n",
    " \n",
    "5.feladat. Legyen $X$ vektortér. Igazoljuk, ha $\\left\\| \\cdot \\right\\|_{a}\\cong\\left\\| \\cdot \\right\\|_{b}$ és $\\left\\| \\cdot \\right\\|_{b}\\cong\\left\\| \\cdot \\right\\|_{c}$ ekvivalens normák $X$-en, akkor $\\left\\| \\cdot \\right\\|_{a}\\cong\\left\\| \\cdot \\right\\|_{c}$.<br>\n",
    "\n",
    "6.feladat. (Beadható házi feladat) Legyen $x\\in\\mathbb{R}^n$ tetszõleges vektor. Mutassuk meg, hogy $\\displaystyle\\lim_{p\\to\\infty}\\left\\| x \\right\\|_{p}=\\left\\| x \\right\\|_{\\infty}$.\n",
    "\n",
    "### Banach-fixponttétel és alkalmazásai\n",
    "\n",
    "<br>\n",
    "7.feladat. Lássuk be, hogy ha $f:[a,b]\\to[a,b],\\ f\\in D[a,b]$ és $|f^{'}|<1$, akkor $f$ kontrakció.<br>  \n",
    "\n",
    "8.feladat. Igazoljuk, hogy a norma folytonos függvény, azaz ha $x_n\\to x$, akkor $\\left\\| x_n \\right\\|\\to\\left\\| x \\right\\|$.<br>\n",
    "\n",
    "9.feladat. Legyen $X$ Banach tér. Bizonyítsuk be, ha $\\sum{\\left\\| x_n \\right\\|}$ konervgens, akkor $\\sum{x_n}$ is konvergens.<br>\n",
    "\n",
    "10.feladat. Ellenõrizzük, hogy $f$ kontrakció-e a megadott intervallumon.<br>\n",
    "(a) $f(x)=\\displaystyle\\frac{1}{2}\\Big(x+\\frac{2}{x}\\Big),\\ x\\in[1,2]$<br>\n",
    "(b) $f(x)=x^2,\\ x\\in[0,1]$<br>\n",
    "(c) $f(x)=\\displaystyle\\sqrt{x+2},\\ x\\in[0,2]$<br>\n",
    "(d) $f(x)=\\displaystyle\\frac{x+2}{x+1},\\ x\\in[1,2]$<br>\n",
    "(e) $f(x)=0.9\\cos(x),\\ x\\in[0,1]$<br>\n",
    "\n",
    "11.feladat. Alkalmazható-e az elõzõ feladat adott $f$ leképezéseire a Banach fixponttétel? Amennyiben igen, akkor adott $x_0$ pontból hány iterációs lépést kell megtennünk ahhoz, hogy $10^{-5}$ nagyságú hibával határozzuk meg az egyenlet megoldását?<br>\n",
    "\n",
    "(a) $x_0=1$<br>\n",
    "(b) $x_0=0$<br>\n",
    "(c) $x_0=0$<br>\n",
    "(d) $x_0=1$<br>\n",
    "(e) $x_0=1$<br>\n"
   ]
  },
  {
   "cell_type": "code",
   "execution_count": 8,
   "metadata": {
    "collapsed": false
   },
   "outputs": [
    {
     "name": "stdout",
     "output_type": "stream",
     "text": [
      "n =\n",
      "\n",
      "   16.6096\n",
      "\n",
      "    17\n"
     ]
    }
   ],
   "source": [
    "% Az elozo feladat (a) példája\n",
    "tol=1e-5;\n",
    "x_0=1;\n",
    "q=0.5; % Kontraktivitási állandó\n",
    "x_1=1/2*(x_0+2/x_0); % Egyszerű iteráció alakja\n",
    "n=log(((1-q)*tol)/(abs(x_1-x_0)))/log(q) % Lépések száma\n",
    "disp(ceil(n)) % Egész lépések száma"
   ]
  },
  {
   "cell_type": "markdown",
   "metadata": {},
   "source": [
    "\n",
    "### Mátrixnormák\n",
    "\n",
    "<br>\n",
    "12.feladat. Mutassuk meg, hogy egy vektornorma által indukált mátrixnorma valóban mátrixnorma.<br>\n",
    "\n",
    "13.feladat. Igazoljuk a szubmultiplikatív tulajdonságot, azaz a $\\left\\| AB \\right\\| \\leq \\left\\| A \\right\\|\\cdot\\left\\| B \\right\\|$ tulajdonságot.<br>\n",
    "\n",
    "14.feladat.(Beadható) Bizonyítsuk be, hogy az $\\left\\| \\cdot \\right\\|_{1}$ és $\\left\\| \\cdot \\right\\|_{\\infty}$ vektornormák által indukált mátrixnorma kiszámítható a mátrix elemeinek a segítségével az alábbi módon:<br>\n",
    "(a) $\\left\\| A \\right\\|_{1}=\\displaystyle\\max_{1\\leq j\\leq n}\\sum_{i=1}^n{|a_{ij}|}$<br>\n",
    "(b) $\\left\\| A \\right\\|_{\\infty}=\\displaystyle\\max_{1\\leq i\\leq n}\\sum_{i=j}^n{|a_{ij}|}$<br>\n",
    "\n"
   ]
  },
  {
   "cell_type": "code",
   "execution_count": 5,
   "metadata": {
    "collapsed": false
   },
   "outputs": [
    {
     "name": "stdout",
     "output_type": "stream",
     "text": [
      "A =\n",
      "\n",
      "    -2     4\n",
      "    11   -33\n",
      "\n",
      "\n",
      "ans =\n",
      "\n",
      "    37\n",
      "\n",
      "\n",
      "ans =\n",
      "\n",
      "    44\n",
      "\n",
      "\n",
      "ans =\n",
      "\n",
      "   35.0714\n",
      "\n",
      "\n",
      "ans =\n",
      "\n",
      "   35.0657\n"
     ]
    }
   ],
   "source": [
    "% Indukált mátrixnormák\n",
    "A=[-2 4; 11 -33]\n",
    "norm(A,1)\n",
    "norm(A,inf)\n",
    "norm(A,'fro')\n",
    "norm(A,2)"
   ]
  },
  {
   "cell_type": "markdown",
   "metadata": {},
   "source": [
    "<br>\n",
    "15.feladat. Mátrixnormát definiálnak-e az alábbi $\\mathbb{R}^{n\\times n}\\to\\mathbb{R}$ függvények?<br>\n",
    "\n",
    "(a) $\\displaystyle\\sum_{i,j=1}^n{|a_{ij}|}$<br>\n",
    "(b) $\\displaystyle\\max_{1\\leq i,j\\leq n}{|a_{ij}|}$<br>\n",
    "\n",
    "16.feladat. Kielégítik-e a szubmultiplikatív tulajdonságot az alábbi mátrixnormák?<br>\n",
    "\n",
    "(a) $\\displaystyle\\sum_{i,j=1}^n{|a_{ij}|}$<br>\n",
    "(b) $\\displaystyle\\left(\\sum_{i,j=1}^n|a_{ij}|^2\\right)^{1/2}$<br>\n"
   ]
  },
  {
   "cell_type": "code",
   "execution_count": 10,
   "metadata": {
    "collapsed": false
   },
   "outputs": [],
   "source": [
    "A=[-1 2 3 0; -11 22 0 2.67; 1 -8 5.5 0; 9 8 0 11];\n",
    "norm(A,2);\n",
    "norm(A,'fro');"
   ]
  },
  {
   "cell_type": "markdown",
   "metadata": {
    "collapsed": true
   },
   "source": [
    "<br>\n",
    "17.feladat. Adjunk példát olyan nemnulla mátrixra, melynek a spektrálsugara nulla.<br>\n",
    "\n",
    "18.feladat. Legyen $A\\in\\mathbb{R}^{n\\times n}$ szimmetrikus mátrix. Igazoljuk, hogy $\\rho(A)=\\left\\| A \\right\\|_2$.<br>\n",
    "\n",
    "19.feladat. Igazoljuk, hogy tetszõleges indukált mátrixnormára érvényes a $\\rho(A)\\leq\\left\\| A \\right\\|$ összefüggés.<br>\n",
    "\n",
    "20.feladat. Számítsuk ki az alábbi mátrixok $\\left\\| A \\right\\|_1,\\ \\left\\| A \\right\\|_2,\\ \\left\\| A \\right\\|_F$ és $\\left\\| A \\right\\|_{\\infty}$ normáit. Adjunk meg olyan vektorokat, amelyekre az $\\left\\| Ax \\right\\|_1=\\left\\| A \\right\\|_1\\cdot\\left\\| x \\right\\|_1$ és $\\left\\| Ax \\right\\|_{\\infty}=\\left\\| A \\right\\|_{\\infty}\\cdot\\left\\| x \\right\\|_{\\infty}$ összefüggések igazak.<br>\n",
    "\n",
    "(a) $\\left(\n",
    "  \\begin{array}{cc}\n",
    " 0 & 2 \\\\\n",
    " -1 & 1\\end{array} \\right)$<br>\n",
    "(b) $\\left(\n",
    "  \\begin{array}{cc}\n",
    " 3 & 4 \\\\\n",
    " 0 & 0\\end{array} \\right)$<br>"
   ]
  },
  {
   "cell_type": "code",
   "execution_count": 4,
   "metadata": {
    "collapsed": false
   },
   "outputs": [
    {
     "name": "stdout",
     "output_type": "stream",
     "text": [
      "A =\n",
      "\n",
      "     0     2\n",
      "    -1     1\n",
      "\n",
      "\n",
      "B =\n",
      "\n",
      "     1    -1\n",
      "    -1     5\n",
      "\n",
      "\n",
      "ans =\n",
      "\n",
      "    5.2361\n"
     ]
    }
   ],
   "source": [
    "A=[0 2; -1 1]\n",
    "B=A'*A\n",
    "norm(B,2)\n",
    "rats(eig(A'*A)); % rats parancs veszelyere irracionalis esetben felhivni a figyelmet"
   ]
  },
  {
   "cell_type": "markdown",
   "metadata": {},
   "source": [
    "\n",
    "### Kondíciószám\n",
    "\n",
    "<br>\n",
    "Definíció: $\\mathrm{cond}_p(A)=||A^{-1}||_p\\cdot||A||_p$<br>\n",
    "\n",
    "Rosszul kondícionáltság: $$\\mathrm{cond}(A)\\frac{||\\delta b||}{||b||}\\geq 1\\ \\mathrm{avagy}\\ \\mathrm{cond}(A)>>1$$\n",
    "\n",
    "21.feladat. Számítsuk ki az \n",
    "$$A=\\left(\n",
    "  \\begin{array}{cc}\n",
    " 2 & 3 \\\\\n",
    " 1 & 2\\end{array} \\right)\n",
    "$$\n",
    "\n",
    "mátrix különböző normákhoz tartozó kondíciószámait: $\\mathrm{cond}_1(A),\\ \\mathrm{cond}_2(A),\\ \\mathrm{cond}_F(A)$ és $\\mathrm{cond}_{\\infty}(A)$.<br>\n",
    "\n",
    "22.feladat. Az $A$ mátrix sajátértékeinek segítségével adjunk alsóbecslést annak kondíciószámára.<br>\n",
    "\n",
    "23.feladat. Megoldottuk az 1.feladatsor 1.feladatát (az eredeti és a hibával terhelt rendszert). Adjunk magyarázatot a kapott eredményekre."
   ]
  },
  {
   "cell_type": "code",
   "execution_count": 6,
   "metadata": {
    "collapsed": false
   },
   "outputs": [
    {
     "name": "stdout",
     "output_type": "stream",
     "text": [
      "ans =\n",
      "\n",
      "    25\n",
      "\n",
      "\n",
      "ans =\n",
      "\n",
      "   17.9443\n",
      "\n",
      "\n",
      "ans =\n",
      "\n",
      "    25\n",
      "\n",
      "\n",
      "ans =\n",
      "\n",
      "   18.0000\n"
     ]
    }
   ],
   "source": [
    "% Kondíciószámok MATLAB-ban\n",
    "A=[2 3; 1 2];\n",
    "cond(A,1)\n",
    "cond(A,2)\n",
    "cond(A,inf)\n",
    "cond(A,'fro')\n",
    "%norm(A,2)*norm(inv(A),2)"
   ]
  },
  {
   "cell_type": "code",
   "execution_count": null,
   "metadata": {
    "collapsed": true
   },
   "outputs": [],
   "source": []
  }
 ],
 "metadata": {
  "kernelspec": {
   "display_name": "Matlab",
   "language": "matlab",
   "name": "matlab"
  },
  "language_info": {
   "codemirror_mode": "octave",
   "file_extension": ".m",
   "help_links": [
    {
     "text": "MetaKernel Magics",
     "url": "https://github.com/calysto/metakernel/blob/master/metakernel/magics/README.md"
    }
   ],
   "mimetype": "text/x-octave",
   "name": "matlab",
   "version": "0.11.0"
  }
 },
 "nbformat": 4,
 "nbformat_minor": 0
}
